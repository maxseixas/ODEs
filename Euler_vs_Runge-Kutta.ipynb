{
 "cells": [
  {
   "cell_type": "markdown",
   "id": "a1c0333d",
   "metadata": {},
   "source": [
    "You arrive, and are interested in unfreezing Han so that you may eventually succeed in over-throwing the empire. Therefore, Tinit = 0 C. Luckily for you, it’s a warm day on Tatooine, and the ambient temperature is Toutside = 40 C. You think — “well, maybe it would be easiest to just let him warm up from the ambient air outside...after all, it is nice and warm out.” But, we only have 10 minutes to spare. How warm does Han get after 10 minutes?\n",
    "\n",
    "Let’s write a computer code to solve the ordinary differential equation that will allow us tocalculate the temperature of Han Solo after 10 minutes have passed. We can say that a simple model for the heating is the rate at which Han warms up is proportional to the temperature difference between Han and outside:\n",
    "\n",
    "dT/dt = −K(T −Toutside ) (1)\n",
    "\n",
    "where K = 0.001s−1 is the constant characterizing the rate at which heat is transported from the air, T is temperature, and t is time. We’ll assume that all of Han is the same temperature, and heats up uniformly.\n",
    "• First, solve the differential equation analytically, and use the initial values to obtain the\n",
    "final temperature at t = 10 min\n",
    "• Now write a program to solve this numerically. You’ll need a time step. Try the program with time steps of ∆t = 1, 0.5, 0.25, 0.125 seconds. At each step, compare the derived answer to the true (analytic) answer. How does the error scale with time step?\n",
    "Solve this using both Euler’s Method, as well as the Runge-Kutta Method (2nd order)."
   ]
  },
  {
   "cell_type": "code",
   "execution_count": 1,
   "id": "b9686d2f",
   "metadata": {},
   "outputs": [
    {
     "name": "stdout",
     "output_type": "stream",
     "text": [
      "18.054123700580124 Time step 1 second, Euler's method. Here there was only a 0.036509920832783684 % error.\n",
      "18.04753235934518 Time step 1 second, Runge - Kutta method. Here there was only a 1.2193658983978844e-05 % error.\n",
      "18.050828276972954 Time step 0.5 second, Euler's method. Here there was only a 0.018250232251972462 % error.\n",
      "18.047534007221458 Time step 0.5 second, Runge - Kutta method. Here there was only a 3.0629033529496084e-06 % error.\n",
      "18.049181203844157 Time step 0.25 second, Euler's method. Here there was only a 0.009123926809411138 % error.\n",
      "18.047534419010287 Time step 0.25 second, Runge - Kutta method. Here there was only a 7.812131451013965e-07 % error.\n",
      "18.048357826863267 Time step 0.125 second, Euler's method. Here there was only a 0.004561658328072188 % error.\n",
      "18.047534521934995 Time step 0.125 second, Runge - Kutta method. Here there was only a 2.1091525530566116e-07 % error.\n",
      "It is more than obvious that the Runge - Kutta method is far more accurate than Euler's method.\n"
     ]
    }
   ],
   "source": [
    "import numpy as np \n",
    "a=0\n",
    "b=600\n",
    "\n",
    "#Percent Error:\n",
    "def compare(x):\n",
    "    realsol=18.04753456\n",
    "    return abs(x-realsol)*100/realsol\n",
    "\n",
    "#Temp Function:\n",
    "def f(T):\n",
    "    return -0.001*(T-40)\n",
    "\n",
    "ax=[]\n",
    "aT=[]\n",
    "for h in [1,0.5,0.25,0.125]:\n",
    "    Tpoints=np.arange(a,b,h)\n",
    "    T=0\n",
    "    x=0\n",
    "    for t in Tpoints:\n",
    "        #Euler Section\n",
    "        T = T + h*f(T)\n",
    "        \n",
    "        #RK Section\n",
    "        k1= h*f(x)\n",
    "        k2= h*f(x + 0.5*k1)\n",
    "        x= x+k2\n",
    "    \n",
    "    ax.append(x)\n",
    "    aT.append(T)\n",
    "    print(T, \"Time step\", h, \"second, Euler's method. Here there was only a\", compare(T), \"% error.\")\n",
    "    print(x, \"Time step\", h, \"second, Runge - Kutta method. Here there was only a\", compare(x), \"% error.\")\n",
    "    \n",
    "    #if(len(ax)>1):\n",
    "     #   scalex=ax[len(ax)-1]/ax[len(ax)-2]\n",
    "      #  print(scalex, \"is how the error scales for Euler's method, time step\", h)\n",
    "       # scaleT=aT[len(aT)-1]/aT[len(aT)-2]\n",
    "       # print(scaleT, \"is how the error scales for Runge-Kutta's method, time step\", h)\n",
    "\n",
    "print(\"It is more than obvious that the Runge - Kutta method is far more accurate than Euler's method.\")"
   ]
  },
  {
   "cell_type": "code",
   "execution_count": null,
   "id": "7688c0cf",
   "metadata": {},
   "outputs": [],
   "source": []
  }
 ],
 "metadata": {
  "kernelspec": {
   "display_name": "Python 3",
   "language": "python",
   "name": "python3"
  },
  "language_info": {
   "codemirror_mode": {
    "name": "ipython",
    "version": 3
   },
   "file_extension": ".py",
   "mimetype": "text/x-python",
   "name": "python",
   "nbconvert_exporter": "python",
   "pygments_lexer": "ipython3",
   "version": "3.8.8"
  }
 },
 "nbformat": 4,
 "nbformat_minor": 5
}
